{
 "cells": [
  {
   "cell_type": "code",
   "execution_count": 1,
   "metadata": {},
   "outputs": [],
   "source": [
    "from matplotlib import pyplot as plt"
   ]
  },
  {
   "cell_type": "code",
   "execution_count": 2,
   "metadata": {},
   "outputs": [],
   "source": [
    "from numpy import array\n",
    "from numpy.linalg import norm\n",
    "from math import pi, cos, sin, atan2, copysign\n",
    "import numpy as np\n",
    "from time import sleep\n",
    "\n",
    "#from IK import L0, L12, L23, L34, L45, bodyH\n",
    "from design_helpers import gen_sides, torque, snapshot\n",
    "from poses import LegGeom, LegDef\n",
    "from IK import ALL_FEET_DOWN_TIME_FRAC, TRANSITION_FRAC, FH_FRAC, FH, Gaits\n",
    "# L0 is the dynamic length of the leg? from pivot to ground contact?\n",
    "from intersections import intersectLines\n",
    "\n",
    "# Numa V2\n",
    "L0=135; L12=58; L23=65; L34=130; L45=5;\n",
    "bodyH=83\n",
    "\n",
    "#legLen = 1.00*L0\n",
    "legLen = 90\n",
    "\n",
    "masses = [115, 20, 0] # masses in grams for segments 23, 34, 45 respectively. 55g per AX12 servo\n",
    "body_mass = 2000/2 + sum(masses) # 2kg / 2 + a leg\n",
    "\n",
    "def gen_numa2_legs():\n",
    "# 4\\ __^__ /3\n",
    "#   |     | \n",
    "#   |numa2| \n",
    "#   |_____| \n",
    "# 1/       \\2\n",
    "    stance = 0\n",
    "    offsets_dict = {\n",
    "            \"aoffset1\": 45.0,\n",
    "            \"aoffset2\": -31.54,\n",
    "            \"aoffset3\": -31.54,\n",
    "            \"a1stance\": stance,\n",
    "            \"a1stance_rear\": stance,\n",
    "            \"L0\": 135, # mm - pretty close to actual...\n",
    "            \"L12\": 58,\n",
    "            \"L23\": 65,\n",
    "            \"L34\": 130,\n",
    "            \"L45\": 5,  # This is fake right?\n",
    "            }\n",
    "    leg_model = LegGeom(offsets_dict)\n",
    "\n",
    "    # leg_geom, s1_sign, s2_sign, s3_sign, s4_sign=None, front_leg=True):\n",
    "    leg1 = LegDef(leg_model, offsets_dict,  1,  1, -1)\n",
    "    leg2 = LegDef(leg_model, offsets_dict, -1, -1,  1)\n",
    "    leg3 = LegDef(leg_model, offsets_dict,  1,  1, -1, front_leg=True)\n",
    "    leg4 = LegDef(leg_model, offsets_dict, -1, -1,  1, front_leg=True)\n",
    "\n",
    "    return leg_model, leg1, leg2, leg3, leg4"
   ]
  },
  {
   "cell_type": "code",
   "execution_count": 3,
   "metadata": {},
   "outputs": [],
   "source": [
    "# sides are the leg edge we worry about colliding.\n",
    "# These are two points as vectors from the base of a leg segment\n",
    "# Numa V2\n",
    "side23 = [[24.77, -35.15],[24.77+17.78, -6.17]]\n",
    "side34 = [[24.95, -9.01],[24.95+35.81, -16.09]]\n",
    "   "
   ]
  },
  {
   "cell_type": "markdown",
   "metadata": {},
   "source": [
    "Now what am I doing?"
   ]
  },
  {
   "cell_type": "code",
   "execution_count": 4,
   "metadata": {
    "scrolled": true
   },
   "outputs": [],
   "source": [
    "def snapshot(gait, ms, loopLength=10000, ang_dir=0.0):\n",
    "    \"\"\"Get leg position at a single time within the loop length\"\"\"\n",
    "    \n",
    "    travRate = 25 # distance in mm that feet travel in a straight line back and forth\n",
    "    times = []\n",
    "    points = []\n",
    "\n",
    "    half_loopLength = loopLength/2.0\n",
    "    double_travRate = 2 * travRate\n",
    "    #gait = Gaits()\n",
    "\n",
    "    # TODO move this\n",
    "    #ms = 0 #0\n",
    "    turnTimeOffset = 0 # probalby don't need this for now except as placeholder\n",
    "    now2 = (ms - turnTimeOffset) % loopLength\n",
    "    now3 = (ms - turnTimeOffset +  half_loopLength) % loopLength\n",
    "    now4 = loopLength - (ms - turnTimeOffset) % loopLength\n",
    "    now1 = loopLength - (ms - turnTimeOffset + half_loopLength) % loopLength\n",
    "\n",
    "    gait.initTrig()\n",
    "    gait.walk_code(loopLength, half_loopLength, travRate, 2*travRate,\n",
    "                  now1, now2, now3, now4, ang_dir)"
   ]
  },
  {
   "cell_type": "code",
   "execution_count": 5,
   "metadata": {},
   "outputs": [],
   "source": [
    "def mkpts():# calculate the points I want to plot: aka the servo joints\n",
    "    pt1 = array([L0, 0])\n",
    "    pt2 = pt1 + array([L12,0])\n",
    "    pt3 = pt2 + gait.v23 # we do this negative in the code, too\n",
    "    pt4 = pt3 + [gait.v34[0], -gait.v34[1]]\n",
    "    pt5 = pt4 + [0, -L45] #[10,0]#\n",
    "    pt0 = pt1 - [0, bodyH]\n",
    "\n",
    "    pts = array([pt0, pt1, pt2, pt3, pt4, pt5])\n",
    "    \n",
    "    #sides = []\n",
    "    #sides.append(array([])\n",
    "    return pts#, sides"
   ]
  },
  {
   "cell_type": "code",
   "execution_count": 6,
   "metadata": {},
   "outputs": [
    {
     "data": {
      "image/png": "[encoded data removed]",
      "text/plain": [
       "<matplotlib.figure.Figure at 0x7ff2cdbfbac8>"
      ]
     },
     "metadata": {},
     "output_type": "display_data"
    }
   ],
   "source": [
    "leg_geom, leg1, leg2, leg3, leg4 = gen_numa2_legs()\n",
    "gait = Gaits(leg_geom, leg1, leg2, leg3, leg4, bodyH)\n",
    "plt.figure()\n",
    "ax1 = plt.subplot(1,1,1)\n",
    "torques = []\n",
    "foot_height = []\n",
    "foot_trav = []\n",
    "intersections = []\n",
    "#foot_trav0 = L0\n",
    "for x in range(0,10000,800):\n",
    "    snapshot(gait, x, 10000)\n",
    "    pts  = mkpts()\n",
    "    xvals, yvals = np.transpose(pts[:])\n",
    "    ax1.set_aspect('equal', 'datalim')\n",
    "    ax1.plot(xvals, yvals)\n",
    "    \n",
    "    # calc torques and leg heights\n",
    "    torques.append(torque(pts, bodyH, masses=masses))\n",
    "    foot_height.append(yvals[5] + bodyH)\n",
    "    foot_trav.append(xvals[5] - 2*legLen)\n",
    "    \n",
    "    # gen and plot servo sides\n",
    "    #sidepts = gen_sides(pts, sides=[side23,side34])\n",
    "    #for ptset in sidepts[:]:\n",
    "    #    xvals, yvals = np.transpose(ptset[:])\n",
    "    #    ax1.plot(xvals, yvals)\n",
    "    #intersections.append(intersectLines(*[v for pt in sidepts for v in pt][:4]))\n",
    "torques = np.transpose(array(torques[:]))\n"
   ]
  },
  {
   "cell_type": "code",
   "execution_count": 7,
   "metadata": {},
   "outputs": [
    {
     "data": {
      "text/plain": [
       "<matplotlib.legend.Legend at 0x7ff2cbacdd68>"
      ]
     },
     "execution_count": 7,
     "metadata": {},
     "output_type": "execute_result"
    },
    {
     "data": {
      "image/png": "[encoded data removed]",
      "text/plain": [
       "<matplotlib.figure.Figure at 0x7ff2cbb9c978>"
      ]
     },
     "metadata": {},
     "output_type": "display_data"
    }
   ],
   "source": [
    "plt.figure()\n",
    "ax2 = plt.subplot(2,1,1)\n",
    "ax2.axhline(y=0, color='k')\n",
    "ax2.set_ylabel(\"torque\")\n",
    "\n",
    "ax3 = plt.subplot(2,1,2)\n",
    "ax3.set_ylabel(\"mm\")\n",
    "#print(torques)\n",
    "\n",
    "joint_names = {0: \"shoulder\", 1: \"elbow\"}\n",
    "for cnt, dataset in enumerate(torques):#[2]:\n",
    "    ax2.plot(dataset, label=joint_names[cnt], marker=\".\")\n",
    "ax3.plot(foot_height, label=\"foot height\", marker=\".\")\n",
    "ax3.plot(foot_trav, label=\"foot travel\", marker=\".\")\n",
    "ax2.legend()\n",
    "ax3.legend()"
   ]
  },
  {
   "cell_type": "code",
   "execution_count": 8,
   "metadata": {},
   "outputs": [
    {
     "data": {
      "text/plain": [
       "[]"
      ]
     },
     "execution_count": 8,
     "metadata": {},
     "output_type": "execute_result"
    }
   ],
   "source": [
    "[x[2] for x in intersections]"
   ]
  },
  {
   "cell_type": "code",
   "execution_count": 9,
   "metadata": {},
   "outputs": [
    {
     "data": {
      "image/png": "[encoded data removed]",
      "text/plain": [
       "<matplotlib.figure.Figure at 0x7ff2cba1f2b0>"
      ]
     },
     "metadata": {},
     "output_type": "display_data"
    }
   ],
   "source": [
    "# Looking at a single set of points for debugging\n",
    "plt.figure()\n",
    "ax1 = plt.subplot(1,1,1)\n",
    "#snapshot(gait, x, 10000)\n",
    "pts  = mkpts()\n",
    "xvals, yvals = np.transpose(pts[:])\n",
    "ax1.set_aspect('equal', 'datalim')\n",
    "ax1.plot(xvals, yvals)\n",
    "\n",
    "# gen and plot servo sides\n",
    "sidepts = gen_sides(pts, sides=[side23, side34])\n",
    "for ptset in sidepts[:]:\n",
    "    xvals, yvals = np.transpose(ptset[:])\n",
    "    ax1.plot(xvals, yvals)"
   ]
  },
  {
   "cell_type": "code",
   "execution_count": 14,
   "metadata": {},
   "outputs": [
    {
     "name": "stdout",
     "output_type": "stream",
     "text": [
      "508 666\n",
      "b'\\xfc\\x01' 252\n",
      "b'\\x9a\\x02' 154\n",
      "b'4\\x03' 52\n",
      "bytearray(b'\\x00') 0\n"
     ]
    },
    {
     "ename": "error",
     "evalue": "unpack requires a bytes object of length 2",
     "output_type": "error",
     "traceback": [
      "\u001b[0;31m---------------------------------------------------------------------------\u001b[0m",
      "\u001b[0;31merror\u001b[0m                                     Traceback (most recent call last)",
      "\u001b[0;32m<ipython-input-14-1acb0a790cc5>\u001b[0m in \u001b[0;36m<module>\u001b[0;34m()\u001b[0m\n\u001b[1;32m      3\u001b[0m \u001b[0maxbus_position_mock\u001b[0m \u001b[0;34m=\u001b[0m \u001b[0mMockBusToWriteList\u001b[0m\u001b[0;34m(\u001b[0m\u001b[0;34m)\u001b[0m\u001b[0;34m\u001b[0m\u001b[0m\n\u001b[1;32m      4\u001b[0m \u001b[0;32mfor\u001b[0m \u001b[0mfunc\u001b[0m \u001b[0;32min\u001b[0m \u001b[0;34m(\u001b[0m\u001b[0mg8Stand\u001b[0m\u001b[0;34m,\u001b[0m \u001b[0mg8FeetDown\u001b[0m\u001b[0;34m,\u001b[0m \u001b[0mg8Crouch\u001b[0m\u001b[0;34m,\u001b[0m \u001b[0mg8Flop\u001b[0m\u001b[0;34m)\u001b[0m\u001b[0;34m:\u001b[0m\u001b[0;34m\u001b[0m\u001b[0m\n\u001b[0;32m----> 5\u001b[0;31m     \u001b[0mfunc\u001b[0m\u001b[0;34m(\u001b[0m\u001b[0mgait\u001b[0m\u001b[0;34m,\u001b[0m \u001b[0maxbus_position_mock\u001b[0m\u001b[0;34m,\u001b[0m \u001b[0mrange\u001b[0m\u001b[0;34m(\u001b[0m\u001b[0;36m16\u001b[0m\u001b[0;34m)\u001b[0m\u001b[0;34m)\u001b[0m\u001b[0;34m\u001b[0m\u001b[0m\n\u001b[0m\u001b[1;32m      6\u001b[0m     \u001b[0;31m# Convert from position to degrees to radians... but I forgot servo offsets\u001b[0m\u001b[0;34m\u001b[0m\u001b[0;34m\u001b[0m\u001b[0m\n\u001b[1;32m      7\u001b[0m     \u001b[0mangle2\u001b[0m \u001b[0;34m=\u001b[0m \u001b[0;34m(\u001b[0m\u001b[0maxbus_position_mock\u001b[0m\u001b[0;34m.\u001b[0m\u001b[0mvalues\u001b[0m\u001b[0;34m[\u001b[0m\u001b[0;34m-\u001b[0m\u001b[0;36m9\u001b[0m\u001b[0;34m]\u001b[0m\u001b[0;34m[\u001b[0m\u001b[0;36m0\u001b[0m\u001b[0;34m]\u001b[0m \u001b[0;34m-\u001b[0m \u001b[0;36m512\u001b[0m\u001b[0;34m)\u001b[0m\u001b[0;34m/\u001b[0m\u001b[0;36m1024\u001b[0m \u001b[0;34m*\u001b[0m \u001b[0;36m300\u001b[0m\u001b[0;34m/\u001b[0m\u001b[0;36m180\u001b[0m\u001b[0;34m*\u001b[0m\u001b[0mpi\u001b[0m\u001b[0;34m\u001b[0m\u001b[0m\n",
      "\u001b[0;32m~/numa2/numac_porting/poses.py\u001b[0m in \u001b[0;36mg8Crouch\u001b[0;34m(gait, axbus, leg_ids)\u001b[0m\n\u001b[1;32m    141\u001b[0m \u001b[0;34m\u001b[0m\u001b[0m\n\u001b[1;32m    142\u001b[0m     \u001b[0;31m# Disable torque to 2nd servo of each leg\u001b[0m\u001b[0;34m\u001b[0m\u001b[0;34m\u001b[0m\u001b[0m\n\u001b[0;32m--> 143\u001b[0;31m     \u001b[0maxbus\u001b[0m\u001b[0;34m.\u001b[0m\u001b[0msync_write\u001b[0m\u001b[0;34m(\u001b[0m\u001b[0mleg_ids\u001b[0m\u001b[0;34m[\u001b[0m\u001b[0;36m4\u001b[0m\u001b[0;34m:\u001b[0m\u001b[0;36m8\u001b[0m\u001b[0;34m]\u001b[0m\u001b[0;34m,\u001b[0m \u001b[0max\u001b[0m\u001b[0;34m.\u001b[0m\u001b[0mTORQUE_ENABLE\u001b[0m\u001b[0;34m,\u001b[0m \u001b[0;34m[\u001b[0m\u001b[0mbytearray\u001b[0m\u001b[0;34m(\u001b[0m\u001b[0;34m[\u001b[0m\u001b[0;36m0\u001b[0m\u001b[0;34m]\u001b[0m\u001b[0;34m)\u001b[0m \u001b[0;32mfor\u001b[0m \u001b[0m__\u001b[0m \u001b[0;32min\u001b[0m \u001b[0mrange\u001b[0m\u001b[0;34m(\u001b[0m\u001b[0;36m4\u001b[0m\u001b[0;34m)\u001b[0m\u001b[0;34m]\u001b[0m\u001b[0;34m)\u001b[0m\u001b[0;34m\u001b[0m\u001b[0m\n\u001b[0m\u001b[1;32m    144\u001b[0m \u001b[0;34m\u001b[0m\u001b[0m\n\u001b[1;32m    145\u001b[0m     \u001b[0;32mreturn\u001b[0m\u001b[0;34m\u001b[0m\u001b[0m\n",
      "\u001b[0;32m~/numa2/numac_porting/mock_hardware.py\u001b[0m in \u001b[0;36msync_write\u001b[0;34m(self, dev_ids, offset, values)\u001b[0m\n\u001b[1;32m    151\u001b[0m         \u001b[0mself\u001b[0m\u001b[0;34m.\u001b[0m\u001b[0mnvalues\u001b[0m \u001b[0;34m=\u001b[0m \u001b[0mlen\u001b[0m\u001b[0;34m(\u001b[0m\u001b[0mvalues\u001b[0m\u001b[0;34m)\u001b[0m\u001b[0;34m\u001b[0m\u001b[0m\n\u001b[1;32m    152\u001b[0m         \u001b[0mprint\u001b[0m\u001b[0;34m(\u001b[0m\u001b[0;34m\"hmm\"\u001b[0m\u001b[0;34m,\u001b[0m \u001b[0mvalues\u001b[0m\u001b[0;34m[\u001b[0m\u001b[0;36m1\u001b[0m\u001b[0;34m]\u001b[0m\u001b[0;34m,\u001b[0m\u001b[0mvalues\u001b[0m\u001b[0;34m[\u001b[0m\u001b[0;36m1\u001b[0m\u001b[0;34m]\u001b[0m\u001b[0;34m[\u001b[0m\u001b[0;36m0\u001b[0m\u001b[0;34m]\u001b[0m\u001b[0;34m)\u001b[0m\u001b[0;34m\u001b[0m\u001b[0m\n\u001b[0;32m--> 153\u001b[0;31m         \u001b[0mself\u001b[0m\u001b[0;34m.\u001b[0m\u001b[0mvalues\u001b[0m \u001b[0;34m=\u001b[0m \u001b[0;34m[\u001b[0m\u001b[0mstruct\u001b[0m\u001b[0;34m.\u001b[0m\u001b[0munpack\u001b[0m\u001b[0;34m(\u001b[0m\u001b[0;34m\"<H\"\u001b[0m\u001b[0;34m,\u001b[0m \u001b[0mval\u001b[0m\u001b[0;34m)\u001b[0m \u001b[0;32mfor\u001b[0m \u001b[0mval\u001b[0m \u001b[0;32min\u001b[0m \u001b[0mvalues\u001b[0m\u001b[0;34m]\u001b[0m\u001b[0;34m\u001b[0m\u001b[0m\n\u001b[0m",
      "\u001b[0;32m~/numa2/numac_porting/mock_hardware.py\u001b[0m in \u001b[0;36m<listcomp>\u001b[0;34m(.0)\u001b[0m\n\u001b[1;32m    151\u001b[0m         \u001b[0mself\u001b[0m\u001b[0;34m.\u001b[0m\u001b[0mnvalues\u001b[0m \u001b[0;34m=\u001b[0m \u001b[0mlen\u001b[0m\u001b[0;34m(\u001b[0m\u001b[0mvalues\u001b[0m\u001b[0;34m)\u001b[0m\u001b[0;34m\u001b[0m\u001b[0m\n\u001b[1;32m    152\u001b[0m         \u001b[0mprint\u001b[0m\u001b[0;34m(\u001b[0m\u001b[0;34m\"hmm\"\u001b[0m\u001b[0;34m,\u001b[0m \u001b[0mvalues\u001b[0m\u001b[0;34m[\u001b[0m\u001b[0;36m1\u001b[0m\u001b[0;34m]\u001b[0m\u001b[0;34m,\u001b[0m\u001b[0mvalues\u001b[0m\u001b[0;34m[\u001b[0m\u001b[0;36m1\u001b[0m\u001b[0;34m]\u001b[0m\u001b[0;34m[\u001b[0m\u001b[0;36m0\u001b[0m\u001b[0;34m]\u001b[0m\u001b[0;34m)\u001b[0m\u001b[0;34m\u001b[0m\u001b[0m\n\u001b[0;32m--> 153\u001b[0;31m         \u001b[0mself\u001b[0m\u001b[0;34m.\u001b[0m\u001b[0mvalues\u001b[0m \u001b[0;34m=\u001b[0m \u001b[0;34m[\u001b[0m\u001b[0mstruct\u001b[0m\u001b[0;34m.\u001b[0m\u001b[0munpack\u001b[0m\u001b[0;34m(\u001b[0m\u001b[0;34m\"<H\"\u001b[0m\u001b[0;34m,\u001b[0m \u001b[0mval\u001b[0m\u001b[0;34m)\u001b[0m \u001b[0;32mfor\u001b[0m \u001b[0mval\u001b[0m \u001b[0;32min\u001b[0m \u001b[0mvalues\u001b[0m\u001b[0;34m]\u001b[0m\u001b[0;34m\u001b[0m\u001b[0m\n\u001b[0m",
      "\u001b[0;31merror\u001b[0m: unpack requires a bytes object of length 2"
     ]
    }
   ],
   "source": [
    "from mock_hardware import MockBusToWriteList\n",
    "from poses import g8Stand, g8FeetDown, g8Crouch, g8Flop\n",
    "axbus_position_mock = MockBusToWriteList()\n",
    "for func in (g8Stand, g8FeetDown, g8Crouch, g8Flop):\n",
    "    func(gait, axbus_position_mock, range(16))\n",
    "    # Convert from position to degrees to radians... but I forgot servo offsets\n",
    "    angle2 = (axbus_position_mock.values[-9][0] - 512)/1024 * 300/180*pi\n",
    "    angle3 = (axbus_position_mock.values[-5][0] - 512)/1024 * 300/180*pi + angle2\n",
    "    angle4 = (axbus_position_mock.values[-1][0] - 512)/1024 * 300/180*pi + angle3\n",
    "    #\n",
    "    pt1 = array([L0, 0])\n",
    "    pt2 = pt1 + array([L12,0])\n",
    "    pt3 = pt2 + L23*(cos(angle2)+sin(angle2))\n",
    "    pt4 = pt3 + L34*(cos(angle3)+sin(angle3))\n",
    "    pt5 = pt4 + L45*(cos(angle4)+sin(angle4))\n",
    "    pt0 = pt1 - [0, bodyH]\n",
    "\n",
    "    pts = array([pt0, pt1, pt2, pt3, pt4, pt5])\n",
    "    \n",
    "    "
   ]
  },
  {
   "cell_type": "code",
   "execution_count": 13,
   "metadata": {},
   "outputs": [
    {
     "data": {
      "text/plain": [
       "[(516,),\n",
       " (508,),\n",
       " (516,),\n",
       " (508,),\n",
       " (358,),\n",
       " (666,),\n",
       " (358,),\n",
       " (666,),\n",
       " (138,),\n",
       " (886,),\n",
       " (138,),\n",
       " (886,),\n",
       " (512,),\n",
       " (512,),\n",
       " (512,),\n",
       " (512,)]"
      ]
     },
     "execution_count": 13,
     "metadata": {},
     "output_type": "execute_result"
    }
   ],
   "source": [
    "axbus_position_mock.values"
   ]
  },
  {
   "cell_type": "code",
   "execution_count": 18,
   "metadata": {},
   "outputs": [
    {
     "name": "stdout",
     "output_type": "stream",
     "text": [
      "b'\\x00\\x00'\n",
      "bytearray(b'\\x00')\n"
     ]
    }
   ],
   "source": [
    "import struct\n",
    "print(struct.pack('<H', int(0)))\n",
    "print(bytearray([0]))"
   ]
  },
  {
   "cell_type": "code",
   "execution_count": null,
   "metadata": {},
   "outputs": [],
   "source": []
  }
 ],
 "metadata": {
  "kernelspec": {
   "display_name": "Python 3",
   "language": "python",
   "name": "python3"
  },
  "language_info": {
   "codemirror_mode": {
    "name": "ipython",
    "version": 3
   },
   "file_extension": ".py",
   "mimetype": "text/x-python",
   "name": "python",
   "nbconvert_exporter": "python",
   "pygments_lexer": "ipython3",
   "version": "3.4.3"
  }
 },
 "nbformat": 4,
 "nbformat_minor": 2
}
