{
 "cells": [
  {
   "cell_type": "code",
   "execution_count": 13,
   "metadata": {},
   "outputs": [],
   "source": [
    "from matplotlib import pyplot as plt"
   ]
  },
  {
   "cell_type": "code",
   "execution_count": 14,
   "metadata": {},
   "outputs": [],
   "source": [
    "from numpy import array\n",
    "from numpy.linalg import norm\n",
    "from math import pi, cos, sin, atan2, copysign\n",
    "import numpy as np\n",
    "from time import sleep\n",
    "\n",
    "#from IK import L0, L12, L23, L34, L45, bodyH\n",
    "from design_helpers import gen_sides, torque\n",
    "from poses import LegGeom, LegDef\n",
    "from IK import ALL_FEET_DOWN_TIME_FRAC, TRANSITION_FRAC, FH_FRAC, FH, Gaits\n",
    "# L0 is the dynamic length of the leg? from pivot to ground contact?\n",
    "from intersections import intersectLines\n",
    "\n",
    "# Numa V2\n",
    "L0=135; L12=58; L23=65; L34=130; L45=5;\n",
    "bodyH=83\n",
    "\n",
    "#legLen = 1.00*L0\n",
    "legLen = 90\n",
    "\n",
    "masses = [115, 20, 0] # masses in grams for segments 23, 34, 45 respectively. 55g per AX12 servo\n",
    "body_mass = 2000/2 + sum(masses) # 2kg / 2 + a leg\n",
    "\n",
    "def gen_numa2_legs():\n",
    "# 4\\ __^__ /3\n",
    "#   |     | \n",
    "#   |numa2| \n",
    "#   |_____| \n",
    "# 1/       \\2\n",
    "    stance = 0\n",
    "    offsets_dict = {\n",
    "            \"aoffset1\": 45.0,\n",
    "            \"aoffset2\": 31.54, #-31.54,\n",
    "            \"aoffset3\": 31.54 - 5.63, #-31.54,\n",
    "            \"a1stance\": stance,\n",
    "            \"a1stance_rear\": stance,\n",
    "            \"L0\": 135, # mm - pretty close to actual...\n",
    "            \"L12\": 58,\n",
    "            \"L23\": 65,\n",
    "            \"L34\": 130,\n",
    "            \"L45\": 5,  # This is fake right?\n",
    "            # Still need to determine if we need jointXsign variables...\n",
    "            \"joint2sign\": -1,\n",
    "            \"joint3sign\": 1,\n",
    "            }\n",
    "    leg_model = LegGeom(offsets_dict)\n",
    "\n",
    "    # leg_geom, s1_sign, s2_sign, s3_sign, s4_sign=None, front_leg=True):\n",
    "    leg1 = LegDef(leg_model, offsets_dict,  1, -1,  1)\n",
    "    leg2 = LegDef(leg_model, offsets_dict, -1,  1, -1)\n",
    "    leg3 = LegDef(leg_model, offsets_dict,  1, -1,  1, front_leg=True)\n",
    "    leg4 = LegDef(leg_model, offsets_dict, -1,  1, -1, front_leg=True)\n",
    "\n",
    "    return leg_model, leg1, leg2, leg3, leg4"
   ]
  },
  {
   "cell_type": "code",
   "execution_count": 15,
   "metadata": {},
   "outputs": [],
   "source": [
    "# sides are the leg edge we worry about colliding.\n",
    "# These are two points as vectors from the base of a leg segment\n",
    "# Numa V2\n",
    "side23 = [[24.77, -35.15],[24.77+17.78, -6.17]]\n",
    "side34 = [[24.95, -9.01],[24.95+35.81, -16.09]]\n",
    "   "
   ]
  },
  {
   "cell_type": "markdown",
   "metadata": {},
   "source": [
    "Now what am I doing?"
   ]
  },
  {
   "cell_type": "code",
   "execution_count": 16,
   "metadata": {},
   "outputs": [],
   "source": [
    "def mkpts():# calculate the points I want to plot: aka the servo joints\n",
    "    pt1 = array([L0, 0])\n",
    "    pt2 = pt1 + array([L12,0])\n",
    "    pt3 = pt2 + gait.v23 # we do this negative in the code, too\n",
    "    pt4 = pt3 + [gait.v34[0], -gait.v34[1]]\n",
    "    pt5 = pt4 + [0, -L45] #[10,0]#\n",
    "    pt0 = pt1 - [0, bodyH]\n",
    "\n",
    "    pts = array([pt0, pt1, pt2, pt3, pt4, pt5])\n",
    "    \n",
    "    #sides = []\n",
    "    #sides.append(array([])\n",
    "    return pts#, sides"
   ]
  },
  {
   "cell_type": "code",
   "execution_count": 17,
   "metadata": {},
   "outputs": [],
   "source": [
    "from poses import g8Stand, g8FeetDown, g8Crouch, g8Flop\n",
    "def poseL1(ax1, gait, axbus_position_mock):\n",
    "    for cnt, func in enumerate([g8Stand, g8FeetDown, g8Crouch, g8Flop]):\n",
    "        func(gait, axbus_position_mock, range(16))\n",
    "        print(\"L1\", gait.s11pos, gait.s12pos, gait.s13pos)\n",
    "        # Convert from position to degrees to radians... but I forgot servo offsets\n",
    "        angle2 = leg1.s2_sign*leg_geom.joint2sign*(gait.s12pos - leg1.s2_center)* 300/1024 * pi/180 #+ leg1.s2_sign * leg1\n",
    "        angle3 = leg1.s3_sign*leg_geom.joint3sign*(gait.s13pos - leg1.s3_center)* 300/1024 * pi/180 + angle2\n",
    "        #angle4 = leg2.s4_sign*(gait.s24pos - 512)* 300/1024 * pi/80 + angle3\n",
    "   #     print(angle2, angle3, \"aka\", angle2*180/pi, angle3*180/pi)#, angle4)\n",
    "   #     print (\"...\")\n",
    "        #\n",
    "        pt1 = array([L0, 0])\n",
    "        pt2 = pt1 + array([L12,0])\n",
    "        pt3 = pt2 + (L23*cos(angle2),L23*sin(angle2))\n",
    "        pt4 = pt3 + (L34*cos(angle3),L34*sin(angle3))\n",
    "        #pt5 = pt4 + (L45*cos(angle4),L45*sin(angle4))\n",
    "        pt0 = pt1 - [0, bodyH]\n",
    "\n",
    "        pts = array([pt0, pt1, pt2, pt3, pt4])#, pt5])\n",
    "        xvals, yvals = np.transpose(pts[:])\n",
    "        ax1 = plt.subplot(2,2,1+cnt)\n",
    "        ax1.set_aspect('equal', 'datalim')\n",
    "        ax1.set_title(str(func).split()[1])\n",
    "        ax1.plot(xvals, yvals, 'r')\n",
    "        #break\n",
    "def poseL2(ax1, gait, axbus_position_mock):\n",
    "    for cnt, func in enumerate([g8Stand, g8FeetDown, g8Crouch, g8Flop]):\n",
    "        func(gait, axbus_position_mock, range(16))\n",
    "        print(\"L2\", gait.s21pos, gait.s22pos, gait.s23pos)\n",
    "        # Convert from position to degrees to radians... but I forgot servo offsets\n",
    "        angle2 = leg2.s2_sign*leg_geom.joint2sign*(gait.s22pos - leg2.s2_center)* 300/1024 * pi/180 #+ leg1.s2_sign * leg1\n",
    "        angle3 = leg2.s3_sign*leg_geom.joint3sign*(gait.s23pos - leg2.s3_center)* 300/1024 * pi/180 + angle2\n",
    "        #angle4 = leg2.s4_sign*(gait.s24pos - 512)* 300/1024 * pi/80 + angle3\n",
    "        print(\"L2\", angle2, angle3, \"aka\", angle2*180/pi, angle3*180/pi)#, angle4)\n",
    "    #    print (\"...\")\n",
    "        #\n",
    "        pt1 = array([L0, 0])\n",
    "        pt2 = pt1 + array([L12,0])\n",
    "        pt3 = pt2 + (L23*cos(angle2),L23*sin(angle2))\n",
    "        pt4 = pt3 + (L34*cos(angle3),L34*sin(angle3))\n",
    "        #pt5 = pt4 + (L45*cos(angle4),L45*sin(angle4))\n",
    "        pt0 = pt1 - [0, bodyH]\n",
    "\n",
    "        pts = array([pt0, pt1, pt2, pt3, pt4])#, pt5])\n",
    "        xvals, yvals = np.transpose(pts[:])\n",
    "        ax1 = plt.subplot(2,2,1+cnt)\n",
    "        ax1.set_aspect('equal', 'datalim')\n",
    "        ax1.set_title(str(func).split()[1])\n",
    "        ax1.plot(xvals, yvals)\n",
    "        #break"
   ]
  },
  {
   "cell_type": "code",
   "execution_count": 18,
   "metadata": {},
   "outputs": [
    {
     "name": "stdout",
     "output_type": "stream",
     "text": [
      "L1 818 558 225\n",
      "L1 818 558 225\n",
      "L1 818 405 600\n",
      "L1 818 558 225\n",
      "L2 206 466 799\n",
      "L2 0.782330201821677 -1.1351457830353744 aka 44.82421875 -65.0390625\n",
      "L2 206 466 799\n",
      "L2 0.782330201821677 -1.1351457830353744 aka 44.82421875 -65.0390625\n",
      "L2 206 619 424\n",
      "L2 0.0 0.0 aka 0.0 0.0\n",
      "L2 206 466 799\n",
      "L2 0.782330201821677 -1.1351457830353744 aka 44.82421875 -65.0390625\n"
     ]
    },
    {
     "data": {
      "image/png": "[encoded data removed]",
      "text/plain": [
       "<matplotlib.figure.Figure at 0x7f8516803c18>"
      ]
     },
     "metadata": {},
     "output_type": "display_data"
    }
   ],
   "source": [
    "# Lets look at our pre-defined poses' leg orientations\n",
    "leg_geom, leg1, leg2, leg3, leg4 = gen_numa2_legs()\n",
    "gait = Gaits(leg_geom, leg1, leg2, leg3, leg4, bodyH)\n",
    "from mock_hardware import MockBusToWriteList\n",
    "\n",
    "axbus_position_mock = MockBusToWriteList()\n",
    "plt.figure()\n",
    "ax1 = plt.subplot(2,2,1)\n",
    "poseL1(ax1, gait, axbus_position_mock)\n",
    "poseL2(ax1, gait, axbus_position_mock)"
   ]
  },
  {
   "cell_type": "code",
   "execution_count": 19,
   "metadata": {},
   "outputs": [
    {
     "name": "stdout",
     "output_type": "stream",
     "text": [
      "L2 619 466 -153 44.82421875\n",
      "L1 405 558 153 44.82421875\n",
      "466 558\n"
     ]
    },
    {
     "data": {
      "text/plain": [
       "184.32"
      ]
     },
     "execution_count": 19,
     "metadata": {},
     "output_type": "execute_result"
    }
   ],
   "source": [
    "print(\"L2\", leg2.s2_center, gait.s22pos, (gait.s22pos - leg2.s2_center), leg2.s2_sign*leg_geom.joint2sign*(gait.s22pos - leg2.s2_center)/1024*300)\n",
    "print(\"L1\", leg1.s2_center, gait.s12pos, (gait.s12pos - leg1.s2_center), leg1.s2_sign*leg_geom.joint2sign*(gait.s12pos - leg1.s2_center)/1024*300)\n",
    "print(gait.s22pos, gait.s12pos)\n",
    "54/150*512."
   ]
  },
  {
   "cell_type": "code",
   "execution_count": 35,
   "metadata": {},
   "outputs": [
    {
     "data": {
      "text/plain": [
       "819.2"
      ]
     },
     "execution_count": 35,
     "metadata": {},
     "output_type": "execute_result"
    }
   ],
   "source": [
    "45*1024/300*2+512"
   ]
  },
  {
   "cell_type": "code",
   "execution_count": 21,
   "metadata": {},
   "outputs": [
    {
     "name": "stdout",
     "output_type": "stream",
     "text": [
      "[359, 619, 424, 512]\n",
      "[359, 466, 799, 512]\n"
     ]
    }
   ],
   "source": [
    "print(leg2.get_pos_from_angle(0,0,0))\n",
    "print(leg2.get_pos_from_angle(0,45,-110))"
   ]
  },
  {
   "cell_type": "code",
   "execution_count": 22,
   "metadata": {},
   "outputs": [
    {
     "data": {
      "text/plain": [
       "44.82421875"
      ]
     },
     "execution_count": 22,
     "metadata": {},
     "output_type": "execute_result"
    }
   ],
   "source": [
    "(772-619)/1024*300"
   ]
  },
  {
   "cell_type": "code",
   "execution_count": 23,
   "metadata": {},
   "outputs": [
    {
     "ename": "NameError",
     "evalue": "name 'pt2' is not defined",
     "output_type": "error",
     "traceback": [
      "\u001b[0;31m---------------------------------------------------------------------------\u001b[0m",
      "\u001b[0;31mNameError\u001b[0m                                 Traceback (most recent call last)",
      "\u001b[0;32m<ipython-input-23-44cda21ad441>\u001b[0m in \u001b[0;36m<module>\u001b[0;34m()\u001b[0m\n\u001b[0;32m----> 1\u001b[0;31m \u001b[0mpt2\u001b[0m\u001b[0;34m\u001b[0m\u001b[0m\n\u001b[0m",
      "\u001b[0;31mNameError\u001b[0m: name 'pt2' is not defined"
     ]
    }
   ],
   "source": [
    "pt2"
   ]
  },
  {
   "cell_type": "code",
   "execution_count": null,
   "metadata": {},
   "outputs": [],
   "source": [
    "print(leg2.s1_center)\n",
    "print(leg2.s2_center)\n",
    "print(leg2.s3_center)\n",
    "leg2.get_pos_from_angle(0,0,0,0)"
   ]
  },
  {
   "cell_type": "code",
   "execution_count": null,
   "metadata": {},
   "outputs": [],
   "source": [
    "print(leg4.s1_center)\n",
    "print(leg4.s2_center)\n",
    "print(leg4.s3_center)\n",
    "leg4.get_pos_from_angle(0,0,0,0)"
   ]
  },
  {
   "cell_type": "code",
   "execution_count": null,
   "metadata": {},
   "outputs": [],
   "source": [
    "print(leg1.s1_center)\n",
    "print(leg1.s2_center)\n",
    "print(leg1.s3_center)\n",
    "leg1.get_pos_from_angle(0,0,0,0)"
   ]
  },
  {
   "cell_type": "code",
   "execution_count": null,
   "metadata": {},
   "outputs": [],
   "source": [
    "print(\"+z, upper\", 512 + 35/150*512)\n",
    "print(\"+z, lower\", 512 + 35/150*512)\n",
    "print(\"-z, upper\", 512 + -1 * 35/150*512)\n",
    "print(\"-z, lower\", 512 + -1 * 35/150*512)\n",
    "\"So we use a sign variable per leg that reflects the z axis direction for each servo\""
   ]
  },
  {
   "cell_type": "code",
   "execution_count": null,
   "metadata": {},
   "outputs": [],
   "source": []
  }
 ],
 "metadata": {
  "kernelspec": {
   "display_name": "Python 3",
   "language": "python",
   "name": "python3"
  },
  "language_info": {
   "codemirror_mode": {
    "name": "ipython",
    "version": 3
   },
   "file_extension": ".py",
   "mimetype": "text/x-python",
   "name": "python",
   "nbconvert_exporter": "python",
   "pygments_lexer": "ipython3",
   "version": "3.4.3"
  }
 },
 "nbformat": 4,
 "nbformat_minor": 2
}
